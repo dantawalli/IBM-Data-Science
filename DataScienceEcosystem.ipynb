{
  "nbformat": 4,
  "nbformat_minor": 0,
  "metadata": {
    "colab": {
      "provenance": []
    },
    "kernelspec": {
      "name": "python3",
      "display_name": "Python 3"
    },
    "language_info": {
      "name": "python"
    }
  },
  "cells": [
    {
      "cell_type": "markdown",
      "source": [
        "# Data Science Tools and Ecosystem"
      ],
      "metadata": {
        "id": "QTkhgJoXZ44v"
      }
    },
    {
      "cell_type": "markdown",
      "source": [
        "### In this notebook, Data Science Tools and Ecosystem are summarized.\n",
        "\n"
      ],
      "metadata": {
        "id": "TpM45Ee1adrp"
      }
    },
    {
      "cell_type": "markdown",
      "source": [
        "**Objectives:**\n",
        "- List of popular languages for Data Science\n",
        "- List of commonly used libraries used by Data Scientists\n",
        "- List of Data Science Tools\n",
        "- Examples of evaluating arithmetic expressions in Python"
      ],
      "metadata": {
        "id": "MifcR54CfY8x"
      }
    },
    {
      "cell_type": "markdown",
      "source": [
        "Some of the popular languages that Data Scientists use are:\n",
        "1. Python\n",
        "2. R\n",
        "3. SQL\n",
        "4. Scala\n",
        "5. Java\n",
        "6. Julia\n"
      ],
      "metadata": {
        "id": "nvYtANs0bNuP"
      }
    },
    {
      "cell_type": "markdown",
      "source": [
        "Some of the commonly used libraries used by Data Scientists include:\n",
        "1. Pandas\n",
        "2. Matplotlib\n",
        "3. Plotly\n",
        "4. Keras\n",
        "5. TensorFlow\n",
        "6. Numpy\n",
        "7. Seaborn\n",
        "8. PyTorch\n",
        "9. Scikit-learn"
      ],
      "metadata": {
        "id": "ZFIdHGCLcCO5"
      }
    },
    {
      "cell_type": "markdown",
      "source": [
        "| Data Science Tools |\n",
        "|--------------------|\n",
        "| Anaconda |\n",
        "| Google Colab |\n",
        "| Jupyter Lab|\n",
        "| RStudio|\n",
        "| VS Code|\n",
        "| Pycharm|"
      ],
      "metadata": {
        "id": "nE4PVDOkdCIs"
      }
    },
    {
      "cell_type": "markdown",
      "source": [
        "### Below are a few examples of evaluating arithmetic expressions in Python.\n",
        "\n"
      ],
      "metadata": {
        "id": "lL8DB9z4eK1R"
      }
    },
    {
      "cell_type": "code",
      "source": [
        "#This a simple arithmetic expression to mutiply then add integers\n",
        "(3*4)+5"
      ],
      "metadata": {
        "colab": {
          "base_uri": "https://localhost:8080/"
        },
        "id": "wLtyaXSZeS52",
        "outputId": "f888d404-f481-4a0b-f731-3957ae2b18e2"
      },
      "execution_count": 2,
      "outputs": [
        {
          "output_type": "execute_result",
          "data": {
            "text/plain": [
              "17"
            ]
          },
          "metadata": {},
          "execution_count": 2
        }
      ]
    },
    {
      "cell_type": "code",
      "source": [
        "#This will convert 200 minutes to hours by diving by 60\n",
        "200/60"
      ],
      "metadata": {
        "colab": {
          "base_uri": "https://localhost:8080/"
        },
        "id": "RYoFMm1Ne5zh",
        "outputId": "e5fe485a-2f83-4583-ab78-a7a83a4caa69"
      },
      "execution_count": 3,
      "outputs": [
        {
          "output_type": "execute_result",
          "data": {
            "text/plain": [
              "3.3333333333333335"
            ]
          },
          "metadata": {},
          "execution_count": 3
        }
      ]
    },
    {
      "cell_type": "markdown",
      "source": [
        "## Author\n",
        "Buhari Nasir Ahmad"
      ],
      "metadata": {
        "id": "DP6HPkRjgQpW"
      }
    }
  ]
}